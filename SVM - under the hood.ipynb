{
 "cells": [
  {
   "cell_type": "markdown",
   "metadata": {},
   "source": [
    "created on 12/9/15 (revisit chris mccormick's SVM discussion; 1 month before samsung; just met jason zhangs new kid; moved into 2 grace court last week; good review of theano too; had lunch with jordan and nk earlier today)\n",
    "\n",
    "updated 12/17/15 (chatted with sumeet yesterday, david jay is leaving; interested in porting svms to java, which means stripping out support vectors etc.; at marlton trying to reverse engineer scikit's polynomial decision function)\n",
    "\n",
    "once SVM finds support vectors, it generates a decision function. the decision boundary function consists of (1) coefficients; (2) support vectors; (3) intercepts. this is a linear transformation. \n",
    "\n",
    "the decision function is applied to test data, where it returns either -1 or 1. (this is why SVM works well in 1-vs-all approaches.)\n",
    "\n",
    "to port, use scikit's SVM to identify coefficients, etc. then extract and port to another language.\n",
    "\n",
    "reference: https://chrisjmccormick.wordpress.com/2013/04/16/trivial-svm-example/"
   ]
  },
  {
   "cell_type": "code",
   "execution_count": 183,
   "metadata": {
    "collapsed": true
   },
   "outputs": [],
   "source": [
    "import pandas as pd\n",
    "import numpy as np"
   ]
  },
  {
   "cell_type": "markdown",
   "metadata": {},
   "source": [
    "# step 1: data\n",
    "\n",
    "replicate data from mccormick's example."
   ]
  },
  {
   "cell_type": "code",
   "execution_count": 184,
   "metadata": {
    "collapsed": false
   },
   "outputs": [
    {
     "data": {
      "text/html": [
       "<div>\n",
       "<table border=\"1\" class=\"dataframe\">\n",
       "  <thead>\n",
       "    <tr style=\"text-align: right;\">\n",
       "      <th></th>\n",
       "      <th>x1</th>\n",
       "      <th>x2</th>\n",
       "      <th>y</th>\n",
       "    </tr>\n",
       "  </thead>\n",
       "  <tbody>\n",
       "    <tr>\n",
       "      <th>0</th>\n",
       "      <td>4</td>\n",
       "      <td>7</td>\n",
       "      <td>0</td>\n",
       "    </tr>\n",
       "    <tr>\n",
       "      <th>1</th>\n",
       "      <td>7</td>\n",
       "      <td>2</td>\n",
       "      <td>0</td>\n",
       "    </tr>\n",
       "    <tr>\n",
       "      <th>2</th>\n",
       "      <td>0</td>\n",
       "      <td>12</td>\n",
       "      <td>0</td>\n",
       "    </tr>\n",
       "    <tr>\n",
       "      <th>3</th>\n",
       "      <td>1</td>\n",
       "      <td>8</td>\n",
       "      <td>0</td>\n",
       "    </tr>\n",
       "    <tr>\n",
       "      <th>4</th>\n",
       "      <td>3</td>\n",
       "      <td>4</td>\n",
       "      <td>0</td>\n",
       "    </tr>\n",
       "  </tbody>\n",
       "</table>\n",
       "</div>"
      ],
      "text/plain": [
       "   x1  x2  y\n",
       "0   4   7  0\n",
       "1   7   2  0\n",
       "2   0  12  0\n",
       "3   1   8  0\n",
       "4   3   4  0"
      ]
     },
     "execution_count": 184,
     "metadata": {},
     "output_type": "execute_result"
    }
   ],
   "source": [
    "data = pd.read_table(\"data.txt\", header = None)\n",
    "data.columns = [['x1', 'x2', 'y']]\n",
    "data.head()"
   ]
  },
  {
   "cell_type": "code",
   "execution_count": 185,
   "metadata": {
    "collapsed": false
   },
   "outputs": [
    {
     "data": {
      "text/plain": [
       "(16, 3)"
      ]
     },
     "execution_count": 185,
     "metadata": {},
     "output_type": "execute_result"
    }
   ],
   "source": [
    "data.shape"
   ]
  },
  {
   "cell_type": "code",
   "execution_count": 186,
   "metadata": {
    "collapsed": true
   },
   "outputs": [],
   "source": [
    "X = data.drop('y', axis = 1)\n",
    "y = data['y']"
   ]
  },
  {
   "cell_type": "markdown",
   "metadata": {},
   "source": [
    "# step 2: learn decision boundary"
   ]
  },
  {
   "cell_type": "markdown",
   "metadata": {},
   "source": [
    "### appraoch 1: use scikit's SVM using a linear kernel\n",
    "\n",
    "nota bene: mccormick uses a 2 degree polynomial kernel"
   ]
  },
  {
   "cell_type": "code",
   "execution_count": 187,
   "metadata": {
    "collapsed": true
   },
   "outputs": [],
   "source": [
    "from sklearn import svm\n",
    "\n",
    "model = svm.SVC(kernel='linear') "
   ]
  },
  {
   "cell_type": "code",
   "execution_count": 188,
   "metadata": {
    "collapsed": false
   },
   "outputs": [
    {
     "data": {
      "text/plain": [
       "SVC(C=1.0, cache_size=200, class_weight=None, coef0=0.0, degree=3, gamma=0.0,\n",
       "  kernel='linear', max_iter=-1, probability=False, random_state=None,\n",
       "  shrinking=True, tol=0.001, verbose=False)"
      ]
     },
     "execution_count": 188,
     "metadata": {},
     "output_type": "execute_result"
    }
   ],
   "source": [
    "# lets fit SVM so we can learn coefficients\n",
    "model.fit(X, y)"
   ]
  },
  {
   "cell_type": "markdown",
   "metadata": {},
   "source": [
    "#### time for feature introspection\n",
    "\n",
    "the following documentation describes model's attributes: http://scikit-learn.org/stable/modules/generated/sklearn.svm.SVC.html"
   ]
  },
  {
   "cell_type": "code",
   "execution_count": 189,
   "metadata": {
    "collapsed": false
   },
   "outputs": [
    {
     "data": {
      "text/plain": [
       "array([[ 4.,  7.],\n",
       "       [ 7.,  2.],\n",
       "       [ 9.,  5.]])"
      ]
     },
     "execution_count": 189,
     "metadata": {},
     "output_type": "execute_result"
    }
   ],
   "source": [
    "# identify support vectors - same as mccormick's\n",
    "\n",
    "model.support_vectors_ "
   ]
  },
  {
   "cell_type": "markdown",
   "metadata": {},
   "source": [
    "#### examine coefficients of support vectors in the decision function\n",
    "\n",
    "\"dual_coef: Coefficients of the support vector in the decision function.\" reference: http://scikit-learn.org/stable/modules/generated/sklearn.svm.SVC.html\n",
    "\n",
    "NB - different than mcccormicks because we're using a linear kernel whereas he uses polynomial."
   ]
  },
  {
   "cell_type": "code",
   "execution_count": 190,
   "metadata": {
    "collapsed": false
   },
   "outputs": [
    {
     "data": {
      "text/plain": [
       "array([[-0.04985403, -0.13855825,  0.18841229]])"
      ]
     },
     "execution_count": 190,
     "metadata": {},
     "output_type": "execute_result"
    }
   ],
   "source": [
    "model.dual_coef_"
   ]
  },
  {
   "cell_type": "markdown",
   "metadata": {},
   "source": [
    "#### example intercept\n",
    "\n",
    "same thing different than mcccormicks because we're using a linear kernel whereas he uses polynomial"
   ]
  },
  {
   "cell_type": "code",
   "execution_count": 191,
   "metadata": {
    "collapsed": false
   },
   "outputs": [
    {
     "data": {
      "text/plain": [
       "array([-5.31708909])"
      ]
     },
     "execution_count": 191,
     "metadata": {},
     "output_type": "execute_result"
    }
   ],
   "source": [
    "model.intercept_"
   ]
  },
  {
   "cell_type": "markdown",
   "metadata": {},
   "source": [
    "#### combine support vectors + coefficients + intercept to form decision boundary"
   ]
  },
  {
   "cell_type": "code",
   "execution_count": 192,
   "metadata": {
    "collapsed": true
   },
   "outputs": [],
   "source": [
    "def classify(vector, dual_coef, support_vectors, intercept):\n",
    "    '''\n",
    "    function:\n",
    "    ---------\n",
    "    helper function that combines \"learned\" coefficients from scikit to classify points.\n",
    "    \n",
    "    parameters:\n",
    "    -----------\n",
    "    @vector: numpy array representing test record\n",
    "    @dual_coef: numpy array, representing fitted svm coefficients\n",
    "    @support_vectors: numpy array, reprsenting support vectors identified during fitting\n",
    "    @intercept: numpy array, representing svm intercept\n",
    "    \n",
    "    returns:\n",
    "    --------\n",
    "    @pred: predicted class (eg positive or negative)\n",
    "    '''\n",
    "    \n",
    "    t1 = dual_coef[0][0] * np.dot(vector, support_vectors[0])\n",
    "    t2 = dual_coef[0][1] * np.dot(vector, support_vectors[1])\n",
    "    t3 = dual_coef[0][2] * np.dot(vector, support_vectors[2])\n",
    "    score = t1 + t2 + t3 + intercept\n",
    "    pred = score > 0 # we care sign, not value\n",
    "    return pred, score"
   ]
  },
  {
   "cell_type": "code",
   "execution_count": 193,
   "metadata": {
    "collapsed": false
   },
   "outputs": [
    {
     "name": "stdout",
     "output_type": "stream",
     "text": [
      "class: actual versus predicted\n",
      "0 [False]\n",
      "0 [False]\n",
      "0 [False]\n",
      "0 [False]\n",
      "0 [False]\n",
      "0 [False]\n",
      "0 [False]\n",
      "0 [False]\n",
      "1 [ True]\n",
      "1 [ True]\n",
      "1 [ True]\n",
      "1 [ True]\n",
      "1 [ True]\n",
      "1 [ True]\n",
      "1 [ True]\n"
     ]
    }
   ],
   "source": [
    "# 100% accuracy\n",
    "\n",
    "print \"class: actual versus predicted\"\n",
    "\n",
    "for i in xrange(15):\n",
    "    print y[i], classify(np.array(X.ix[i,:]), model.dual_coef_, model.support_vectors_, model.intercept_)[0]"
   ]
  },
  {
   "cell_type": "markdown",
   "metadata": {},
   "source": [
    "#### libsvm's decision_function() returns predicted scores\n",
    "\n",
    "compare predicted scores with manually generated scores."
   ]
  },
  {
   "cell_type": "code",
   "execution_count": 194,
   "metadata": {
    "collapsed": false
   },
   "outputs": [],
   "source": [
    "actual_scores = model.decision_function(X)"
   ]
  },
  {
   "cell_type": "code",
   "execution_count": 195,
   "metadata": {
    "collapsed": false
   },
   "outputs": [
    {
     "name": "stdout",
     "output_type": "stream",
     "text": [
      "actual score:  -0.999775521207 || predicted score:  -0.999775521207\n",
      "actual score:  -1.00044895759 || predicted score:  -1.00044895759\n",
      "actual score:  -1.52548876234 || predicted score:  -1.52548876234\n",
      "actual score:  -2.26296885996 || predicted score:  -2.26296885996\n",
      "actual score:  -2.47406228007 || predicted score:  -2.47406228007\n",
      "actual score:  -2.89557568391 || predicted score:  -2.89557568391\n",
      "actual score:  -3.31641565137 || predicted score:  -3.31641565137\n",
      "actual score:  -4.79070241024 || predicted score:  -4.79070241024\n",
      "actual score:  1.00022447879 || predicted score:  1.00022447879\n",
      "actual score:  2.05232439744 || predicted score:  2.05232439744\n",
      "actual score:  1.63283130274 || predicted score:  1.63283130274\n",
      "actual score:  2.0536712702 || predicted score:  2.0536712702\n",
      "actual score:  2.37031140036 || predicted score:  2.37031140036\n",
      "actual score:  3.00089791517 || predicted score:  3.00089791517\n",
      "actual score:  3.84257785009 || predicted score:  3.84257785009\n"
     ]
    }
   ],
   "source": [
    "# perfect match!\n",
    "\n",
    "for idx in xrange(15):\n",
    "    print \"actual score: \", actual_scores[idx], \"|| predicted score: \", classify(np.array(X.ix[idx,:]), model.dual_coef_, model.support_vectors_, model.intercept_)[1][0]"
   ]
  },
  {
   "cell_type": "code",
   "execution_count": 196,
   "metadata": {
    "collapsed": false
   },
   "outputs": [
    {
     "data": {
      "text/plain": [
       "array([[ 0.52638668,  0.31596669]])"
      ]
     },
     "execution_count": 196,
     "metadata": {},
     "output_type": "execute_result"
    }
   ],
   "source": [
    "# dont use \"coef_\" - this represents the vector orthogonal to decision boundary. thats why \n",
    "# this attribute is available only for linear kernels (which have linear boundaries)\n",
    "\n",
    "model.coef_"
   ]
  },
  {
   "cell_type": "markdown",
   "metadata": {},
   "source": [
    "### appraoch 2: use scikit's SVM using a polynomial kernel\n",
    "\n",
    "a polynomial kernel means using exponents after taking the inner product."
   ]
  },
  {
   "cell_type": "code",
   "execution_count": 198,
   "metadata": {
    "collapsed": false
   },
   "outputs": [
    {
     "data": {
      "text/plain": [
       "SVC(C=1.0, cache_size=200, class_weight=None, coef0=0.0, degree=2, gamma=0.0,\n",
       "  kernel='poly', max_iter=-1, probability=False, random_state=None,\n",
       "  shrinking=True, tol=0.001, verbose=False)"
      ]
     },
     "execution_count": 198,
     "metadata": {},
     "output_type": "execute_result"
    }
   ],
   "source": [
    "poly_svm = svm.SVC(kernel = 'poly', degree = 2) \n",
    "poly_svm.fit(X, y)"
   ]
  },
  {
   "cell_type": "code",
   "execution_count": 218,
   "metadata": {
    "collapsed": false
   },
   "outputs": [
    {
     "data": {
      "text/plain": [
       "array([[ 4.,  7.],\n",
       "       [ 7.,  2.],\n",
       "       [ 9.,  5.]])"
      ]
     },
     "execution_count": 218,
     "metadata": {},
     "output_type": "execute_result"
    }
   ],
   "source": [
    "# same support vectors\n",
    "\n",
    "poly_svm.support_vectors_"
   ]
  },
  {
   "cell_type": "code",
   "execution_count": 219,
   "metadata": {
    "collapsed": false
   },
   "outputs": [
    {
     "data": {
      "text/plain": [
       "array([[-0.00053607, -0.00194672,  0.00248279]])"
      ]
     },
     "execution_count": 219,
     "metadata": {},
     "output_type": "execute_result"
    }
   ],
   "source": [
    "# coefficients are different from mccormick's example - why?\n",
    "\n",
    "poly_svm.dual_coef_"
   ]
  },
  {
   "cell_type": "code",
   "execution_count": 220,
   "metadata": {
    "collapsed": false
   },
   "outputs": [
    {
     "data": {
      "text/plain": [
       "array([-2.70448955])"
      ]
     },
     "execution_count": 220,
     "metadata": {},
     "output_type": "execute_result"
    }
   ],
   "source": [
    "# intercept\n",
    "\n",
    "poly_svm.intercept_"
   ]
  },
  {
   "cell_type": "code",
   "execution_count": 222,
   "metadata": {
    "collapsed": false
   },
   "outputs": [
    {
     "data": {
      "text/plain": [
       "array([-1.00028332, -1.00028332, -1.69593894, -1.95411414, -1.95709547,\n",
       "       -2.1700042 , -2.33593114, -2.68020464,  1.00056664,  2.05535372,\n",
       "        1.67893002,  2.32858516,  2.47406999,  3.73853343,  4.95552078,\n",
       "        8.45279935])"
      ]
     },
     "execution_count": 222,
     "metadata": {},
     "output_type": "execute_result"
    }
   ],
   "source": [
    "# call decision_function() to generate predictions\n",
    "# formula for polynomial SVM's decision function: https://github.com/cjlin1/libsvm\n",
    "\n",
    "poly_svm.decision_function(X)"
   ]
  },
  {
   "cell_type": "code",
   "execution_count": 228,
   "metadata": {
    "collapsed": false
   },
   "outputs": [
    {
     "name": "stdout",
     "output_type": "stream",
     "text": [
      "False False\n",
      "False False\n",
      "False False\n",
      "False False\n",
      "False False\n",
      "False False\n",
      "False False\n",
      "False False\n",
      "True True\n",
      "True True\n",
      "True True\n",
      "True True\n",
      "True True\n",
      "True True\n",
      "True True\n"
     ]
    }
   ],
   "source": [
    "for idx in xrange(15):\n",
    "    print \"actual: \", y[idx] > 0, poly_svm.decision_function(X)[idx] > 0"
   ]
  },
  {
   "cell_type": "markdown",
   "metadata": {},
   "source": [
    "### approach 3: this is mccormick's work - same thing as approach 1\n",
    "\n",
    "three support vectors have been identified by chris mccormick. they are [9,5 for class 0], [4,7 for class 1], and [7,2 for class 1]. a decision function is constructed from support vectors - every other training data point is effectively ignored."
   ]
  },
  {
   "cell_type": "code",
   "execution_count": 177,
   "metadata": {
    "collapsed": true
   },
   "outputs": [],
   "source": [
    "import theano.tensor as T\n",
    "from theano import function"
   ]
  },
  {
   "cell_type": "code",
   "execution_count": 178,
   "metadata": {
    "collapsed": true
   },
   "outputs": [],
   "source": [
    "x = T.dvector('x') # input vectors are 2D\n",
    "\n",
    "# it is dot product, not element wise multiplication\n",
    "y = (0.0005 * T.dot(np.array([7,2]), x) ** 2) + (-.0006 * T.dot(np.array([9,5]), x) ** 2) + (0.0001 * T.dot(np.array([4,7]), x) ** 2) + 2.7035"
   ]
  },
  {
   "cell_type": "code",
   "execution_count": 23,
   "metadata": {
    "collapsed": true
   },
   "outputs": [],
   "source": [
    "# compile function\n",
    "\n",
    "decision_func = function([x], y)"
   ]
  },
  {
   "cell_type": "markdown",
   "metadata": {},
   "source": [
    "# evaluate"
   ]
  },
  {
   "cell_type": "markdown",
   "metadata": {},
   "source": [
    "#### task A) grid search \n",
    "\n",
    "lets grid search across possible points in order to map out the decision boundary."
   ]
  },
  {
   "cell_type": "code",
   "execution_count": 24,
   "metadata": {
    "collapsed": false
   },
   "outputs": [],
   "source": [
    "x1_pts = []\n",
    "x2_pts = []\n",
    "z_pts = []\n",
    "\n",
    "for i in range(16):\n",
    "    \n",
    "    for j in range(16):\n",
    "        \n",
    "        x1_pts.append(i)\n",
    "        x2_pts.append(j)\n",
    "        \n",
    "        # only care about negative or positive - actual value does not matter\n",
    "        # z = decision_func([i, j]) > 0\n",
    "        z = decision_func([i, j])\n",
    "        \n",
    "        z_pts.append(z)"
   ]
  },
  {
   "cell_type": "code",
   "execution_count": 25,
   "metadata": {
    "collapsed": false
   },
   "outputs": [
    {
     "name": "stderr",
     "output_type": "stream",
     "text": [
      "/Users/vincenttang/anaconda/lib/python2.7/site-packages/matplotlib/collections.py:590: FutureWarning: elementwise comparison failed; returning scalar instead, but in the future will perform elementwise comparison\n",
      "  if self._edgecolors == str('face'):\n"
     ]
    },
    {
     "data": {
      "text/plain": [
       "<mpl_toolkits.mplot3d.art3d.Poly3DCollection at 0x109db89d0>"
      ]
     },
     "execution_count": 25,
     "metadata": {},
     "output_type": "execute_result"
    },
    {
     "data": {
      "image/png": "[encoded data removed]",
      "text/plain": [
       "<matplotlib.figure.Figure at 0x109c7e190>"
      ]
     },
     "metadata": {},
     "output_type": "display_data"
    }
   ],
   "source": [
    "# visualize decision function surface\n",
    "\n",
    "import matplotlib.pyplot as plt\n",
    "from mpl_toolkits.mplot3d import Axes3D\n",
    "from matplotlib import cm\n",
    "%matplotlib inline\n",
    "\n",
    "fig = plt.figure(figsize=(8, 6))\n",
    "ax = fig.add_subplot(111, projection='3d', )\n",
    "\n",
    "ax.set_xlabel('x1')\n",
    "ax.set_ylabel('x2')\n",
    "ax.set_zlabel('yhat')\n",
    "\n",
    "ax.plot_trisurf(x1_pts,x2_pts,z_pts, linewidth=.02, cmap=cm.jet)"
   ]
  },
  {
   "cell_type": "markdown",
   "metadata": {},
   "source": [
    "#### alternatively, look at \"top-down\" projection"
   ]
  },
  {
   "cell_type": "code",
   "execution_count": 26,
   "metadata": {
    "collapsed": false
   },
   "outputs": [
    {
     "data": {
      "text/html": [
       "<div>\n",
       "<table border=\"1\" class=\"dataframe\">\n",
       "  <thead>\n",
       "    <tr style=\"text-align: right;\">\n",
       "      <th></th>\n",
       "      <th>0</th>\n",
       "      <th>1</th>\n",
       "      <th>2</th>\n",
       "    </tr>\n",
       "  </thead>\n",
       "  <tbody>\n",
       "    <tr>\n",
       "      <th>0</th>\n",
       "      <td>0</td>\n",
       "      <td>0</td>\n",
       "      <td>2.7035</td>\n",
       "    </tr>\n",
       "    <tr>\n",
       "      <th>1</th>\n",
       "      <td>0</td>\n",
       "      <td>1</td>\n",
       "      <td>2.6954</td>\n",
       "    </tr>\n",
       "    <tr>\n",
       "      <th>2</th>\n",
       "      <td>0</td>\n",
       "      <td>2</td>\n",
       "      <td>2.6711</td>\n",
       "    </tr>\n",
       "    <tr>\n",
       "      <th>3</th>\n",
       "      <td>0</td>\n",
       "      <td>3</td>\n",
       "      <td>2.6306</td>\n",
       "    </tr>\n",
       "    <tr>\n",
       "      <th>4</th>\n",
       "      <td>0</td>\n",
       "      <td>4</td>\n",
       "      <td>2.5739</td>\n",
       "    </tr>\n",
       "  </tbody>\n",
       "</table>\n",
       "</div>"
      ],
      "text/plain": [
       "   0  1       2\n",
       "0  0  0  2.7035\n",
       "1  0  1  2.6954\n",
       "2  0  2  2.6711\n",
       "3  0  3  2.6306\n",
       "4  0  4  2.5739"
      ]
     },
     "execution_count": 26,
     "metadata": {},
     "output_type": "execute_result"
    }
   ],
   "source": [
    "grid_data = pd.DataFrame(zip(x1_pts, x2_pts, z_pts))\n",
    "grid_data.head()"
   ]
  },
  {
   "cell_type": "code",
   "execution_count": 27,
   "metadata": {
    "collapsed": false
   },
   "outputs": [
    {
     "data": {
      "text/plain": [
       "<matplotlib.collections.PathCollection at 0x10aaa3fd0>"
      ]
     },
     "execution_count": 27,
     "metadata": {},
     "output_type": "execute_result"
    },
    {
     "data": {
      "image/png": "[encoded data removed]",
      "text/plain": [
       "<matplotlib.figure.Figure at 0x1093628d0>"
      ]
     },
     "metadata": {},
     "output_type": "display_data"
    }
   ],
   "source": [
    "import matplotlib.pyplot as plt\n",
    "\n",
    "%matplotlib inline\n",
    "\n",
    "# subset df by class for prettier plotting\n",
    "\n",
    "class_1 = grid_data[grid_data[2] == True]\n",
    "class_2 = grid_data[grid_data[2] == False]\n",
    "\n",
    "plt.scatter(class_1[0], class_1[1], c = 'g', marker = 'x')\n",
    "plt.scatter(class_2[0], class_2[1], c = 'b', marker = 'o')"
   ]
  },
  {
   "cell_type": "markdown",
   "metadata": {},
   "source": [
    "#### task b) actual data points\n",
    "\n",
    "lets see how the decision function classifies actual points. you can compare results with tthe actual labels here: https://chrisjmccormick.wordpress.com/2013/04/16/trivial-svm-example/"
   ]
  },
  {
   "cell_type": "code",
   "execution_count": 28,
   "metadata": {
    "collapsed": false
   },
   "outputs": [],
   "source": [
    "x1_pts = []\n",
    "x2_pts = []\n",
    "z_pts = []\n",
    "\n",
    "for idx in range(data.shape[0]):\n",
    "    i = data['x1'][idx]\n",
    "    j = data['x2'][idx]\n",
    "    \n",
    "    # remember, we dont care about actual values - just the signs\n",
    "    z = decision_func([i, j]) > 0\n",
    "    \n",
    "    x1_pts.append(i)\n",
    "    x2_pts.append(j)\n",
    "    z_pts.append(z)"
   ]
  },
  {
   "cell_type": "code",
   "execution_count": 29,
   "metadata": {
    "collapsed": false
   },
   "outputs": [
    {
     "data": {
      "text/html": [
       "<div>\n",
       "<table border=\"1\" class=\"dataframe\">\n",
       "  <thead>\n",
       "    <tr style=\"text-align: right;\">\n",
       "      <th></th>\n",
       "      <th>0</th>\n",
       "      <th>1</th>\n",
       "      <th>2</th>\n",
       "    </tr>\n",
       "  </thead>\n",
       "  <tbody>\n",
       "    <tr>\n",
       "      <th>0</th>\n",
       "      <td>4</td>\n",
       "      <td>7</td>\n",
       "      <td>True</td>\n",
       "    </tr>\n",
       "    <tr>\n",
       "      <th>1</th>\n",
       "      <td>7</td>\n",
       "      <td>2</td>\n",
       "      <td>True</td>\n",
       "    </tr>\n",
       "    <tr>\n",
       "      <th>2</th>\n",
       "      <td>0</td>\n",
       "      <td>12</td>\n",
       "      <td>True</td>\n",
       "    </tr>\n",
       "    <tr>\n",
       "      <th>3</th>\n",
       "      <td>1</td>\n",
       "      <td>8</td>\n",
       "      <td>True</td>\n",
       "    </tr>\n",
       "    <tr>\n",
       "      <th>4</th>\n",
       "      <td>3</td>\n",
       "      <td>4</td>\n",
       "      <td>True</td>\n",
       "    </tr>\n",
       "  </tbody>\n",
       "</table>\n",
       "</div>"
      ],
      "text/plain": [
       "   0   1     2\n",
       "0  4   7  True\n",
       "1  7   2  True\n",
       "2  0  12  True\n",
       "3  1   8  True\n",
       "4  3   4  True"
      ]
     },
     "execution_count": 29,
     "metadata": {},
     "output_type": "execute_result"
    }
   ],
   "source": [
    "grid_data = pd.DataFrame(zip(x1_pts, x2_pts, z_pts))\n",
    "grid_data.head()"
   ]
  },
  {
   "cell_type": "code",
   "execution_count": 30,
   "metadata": {
    "collapsed": false
   },
   "outputs": [
    {
     "data": {
      "text/plain": [
       "<matplotlib.collections.PathCollection at 0x10b15d790>"
      ]
     },
     "execution_count": 30,
     "metadata": {},
     "output_type": "execute_result"
    },
    {
     "data": {
      "image/png": "[encoded data removed]",
      "text/plain": [
       "<matplotlib.figure.Figure at 0x109362910>"
      ]
     },
     "metadata": {},
     "output_type": "display_data"
    }
   ],
   "source": [
    "# subset data for pretty plotting\n",
    "\n",
    "class_1 = grid_data[grid_data[2] == True]\n",
    "class_2 = grid_data[grid_data[2] == False]\n",
    "\n",
    "plt.scatter(class_1[0], class_1[1], c = 'g', marker = 'x')\n",
    "plt.scatter(class_2[0], class_2[1], c = 'r', marker = 'o')"
   ]
  },
  {
   "cell_type": "code",
   "execution_count": null,
   "metadata": {
    "collapsed": true
   },
   "outputs": [],
   "source": []
  }
 ],
 "metadata": {
  "kernelspec": {
   "display_name": "Python 2",
   "language": "python",
   "name": "python2"
  },
  "language_info": {
   "codemirror_mode": {
    "name": "ipython",
    "version": 2
   },
   "file_extension": ".py",
   "mimetype": "text/x-python",
   "name": "python",
   "nbconvert_exporter": "python",
   "pygments_lexer": "ipython2",
   "version": "2.7.11"
  }
 },
 "nbformat": 4,
 "nbformat_minor": 0
}
